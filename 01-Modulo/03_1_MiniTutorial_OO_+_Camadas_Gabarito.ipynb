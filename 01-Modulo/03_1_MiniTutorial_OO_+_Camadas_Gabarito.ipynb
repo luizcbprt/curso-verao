{
  "nbformat": 4,
  "nbformat_minor": 0,
  "metadata": {
    "kernelspec": {
      "display_name": "Python 3",
      "language": "python",
      "name": "python3"
    },
    "language_info": {
      "codemirror_mode": {
        "name": "ipython",
        "version": 3
      },
      "file_extension": ".py",
      "mimetype": "text/x-python",
      "name": "python",
      "nbconvert_exporter": "python",
      "pygments_lexer": "ipython3",
      "version": "3.7.3"
    },
    "colab": {
      "name": "03.1 - MiniTutorial OO + Camadas - Gabarito.ipynb",
      "provenance": []
    }
  },
  "cells": [
    {
      "cell_type": "markdown",
      "metadata": {
        "id": "xQJGoF-f5PBg",
        "colab_type": "text"
      },
      "source": [
        "## Mini Introdução OO\n",
        "\n",
        "Uma grande parte das bibliotecas de hoje em dia exploram conceitos de orientação a objetos. Embora não tempos tempo de ensinar um curso inteiro de OO, seria pelo menos um semestre, podemos cobrir o essencial neste notebook. Caso queira uma única palavra para sumarizar: o essencial aqui é o conceito de **estado**!.\n",
        "\n",
        "Existem dois termos importantes para entender OO:\n",
        "1. Classes\n",
        "2. Objetos\n",
        "\n",
        "Classes definem um esqueleto do que será armazenado. Objetos definem uma instância da classe na memória. Abaixo temos uma classe simples chamadas de agregador. No momento, a mesma não faz nada!"
      ]
    },
    {
      "cell_type": "code",
      "metadata": {
        "id": "BGsnuT7G5PBi",
        "colab_type": "code",
        "colab": {}
      },
      "source": [
        "class Agregador(object):\n",
        "    pass"
      ],
      "execution_count": 0,
      "outputs": []
    },
    {
      "cell_type": "markdown",
      "metadata": {
        "id": "EtbGv0kS5PBn",
        "colab_type": "text"
      },
      "source": [
        "Podemos instanciar nossas classes, ficando assim com dois objetos na memória:"
      ]
    },
    {
      "cell_type": "code",
      "metadata": {
        "id": "R6CE4ncN5PBp",
        "colab_type": "code",
        "colab": {}
      },
      "source": [
        "obj1 = Agregador()\n",
        "obj2 = Agregador()"
      ],
      "execution_count": 0,
      "outputs": []
    },
    {
      "cell_type": "markdown",
      "metadata": {
        "id": "lECPEeAC5PBt",
        "colab_type": "text"
      },
      "source": [
        "Cada instância, ou objeto, difere um do outro"
      ]
    },
    {
      "cell_type": "code",
      "metadata": {
        "id": "Ku4d5Kum5PBt",
        "colab_type": "code",
        "outputId": "5e07fb49-9333-422b-f3ae-d9087daff0a0",
        "colab": {
          "base_uri": "https://localhost:8080/",
          "height": 36
        }
      },
      "source": [
        "obj1 == obj2"
      ],
      "execution_count": 0,
      "outputs": [
        {
          "output_type": "execute_result",
          "data": {
            "text/plain": [
              "False"
            ]
          },
          "metadata": {
            "tags": []
          },
          "execution_count": 3
        }
      ]
    },
    {
      "cell_type": "markdown",
      "metadata": {
        "id": "c-LwCgoI5PBy",
        "colab_type": "text"
      },
      "source": [
        "Agora, vamos adicionar um **atributo**, um pouco de memória, na nossa classe. O mesmo guarda um valor simples. Se objetos são instâncias de classes, algum local tem guardar o estado desta instância. Em python, tal local é chamado de **self**. Todo objeto tem uma referência para seu estado, o self, que no fim das contas é uma referência para ele mesmo. \n",
        "\n",
        "O método `__init__(self)` é o **construtor** da classe, ou seja, quando um objeto é instanciado, esse método é chamado para definir o estado inicial do objeto. "
      ]
    },
    {
      "cell_type": "code",
      "metadata": {
        "id": "3ZKWW-CX5PBz",
        "colab_type": "code",
        "colab": {}
      },
      "source": [
        "class Agregador(object):\n",
        "    def __init__(self):\n",
        "        self._value = 0   # Toda instância agora guarda um inteiro simples!"
      ],
      "execution_count": 0,
      "outputs": []
    },
    {
      "cell_type": "code",
      "metadata": {
        "id": "-9r6iJQj5PB2",
        "colab_type": "code",
        "outputId": "29dbc0cb-b16b-4c60-c294-3a94912a7a41",
        "colab": {
          "base_uri": "https://localhost:8080/",
          "height": 54
        }
      },
      "source": [
        "obj1 = Agregador()\n",
        "obj2 = Agregador()\n",
        "\n",
        "print(obj1._value)\n",
        "print(obj2._value)"
      ],
      "execution_count": 0,
      "outputs": [
        {
          "output_type": "stream",
          "text": [
            "0\n",
            "0\n"
          ],
          "name": "stdout"
        }
      ]
    },
    {
      "cell_type": "markdown",
      "metadata": {
        "id": "0xyS1lTd5PB6",
        "colab_type": "text"
      },
      "source": [
        "Dois objetos podem guardar um mesmo estado. Acima, os dois tem valor = 0. Ainda assim, são dois objetos diferentes, ocupam locais diferentes da memória do computador."
      ]
    },
    {
      "cell_type": "code",
      "metadata": {
        "id": "eM2n1Z5d5PB7",
        "colab_type": "code",
        "outputId": "6e6fae8f-29ec-43f8-e1f3-17d2794ec3bb",
        "colab": {
          "base_uri": "https://localhost:8080/",
          "height": 36
        }
      },
      "source": [
        "hex(id(obj1))"
      ],
      "execution_count": 0,
      "outputs": [
        {
          "output_type": "execute_result",
          "data": {
            "text/plain": [
              "'0x7fdf8b2a8eb8'"
            ]
          },
          "metadata": {
            "tags": []
          },
          "execution_count": 6
        }
      ]
    },
    {
      "cell_type": "code",
      "metadata": {
        "id": "O9opRsAI5PB_",
        "colab_type": "code",
        "outputId": "0187145b-2d0d-4518-fb99-ede4172ba939",
        "colab": {
          "base_uri": "https://localhost:8080/",
          "height": 36
        }
      },
      "source": [
        "hex(id(obj2))"
      ],
      "execution_count": 0,
      "outputs": [
        {
          "output_type": "execute_result",
          "data": {
            "text/plain": [
              "'0x7fdf8b2a8e80'"
            ]
          },
          "metadata": {
            "tags": []
          },
          "execution_count": 7
        }
      ]
    },
    {
      "cell_type": "markdown",
      "metadata": {
        "id": "jQzoNDk25PCG",
        "colab_type": "text"
      },
      "source": [
        "Por fim, objetos funcionam através de referências. A linha abaixo não cria um objeto novo, temos duas referências para um mesmo local da memória."
      ]
    },
    {
      "cell_type": "code",
      "metadata": {
        "id": "FRKQxJwf5PCH",
        "colab_type": "code",
        "outputId": "0c62baa7-5545-4f16-cd4f-a14be48f902b",
        "colab": {
          "base_uri": "https://localhost:8080/",
          "height": 36
        }
      },
      "source": [
        "obj3 = obj1\n",
        "hex(id(obj3)) # note como aqui temos o mesmo endereco do obj1"
      ],
      "execution_count": 0,
      "outputs": [
        {
          "output_type": "execute_result",
          "data": {
            "text/plain": [
              "'0x7fdf8b2a8eb8'"
            ]
          },
          "metadata": {
            "tags": []
          },
          "execution_count": 8
        }
      ]
    },
    {
      "cell_type": "code",
      "metadata": {
        "id": "wfyAoLVZ5PCM",
        "colab_type": "code",
        "outputId": "b8b1f21c-820e-4b3f-f1ff-d6048cbb7ca8",
        "colab": {
          "base_uri": "https://localhost:8080/",
          "height": 36
        }
      },
      "source": [
        "hex(id(obj1))"
      ],
      "execution_count": 0,
      "outputs": [
        {
          "output_type": "execute_result",
          "data": {
            "text/plain": [
              "'0x7fdf8b2a8eb8'"
            ]
          },
          "metadata": {
            "tags": []
          },
          "execution_count": 9
        }
      ]
    },
    {
      "cell_type": "markdown",
      "metadata": {
        "id": "4MKgk5kt5PCP",
        "colab_type": "text"
      },
      "source": [
        "Como obj1 e obj3 são a mesma coisa, ao mudar um mudamos o outro."
      ]
    },
    {
      "cell_type": "code",
      "metadata": {
        "id": "X5NdTXxY5PCP",
        "colab_type": "code",
        "colab": {}
      },
      "source": [
        "obj1._value = 9"
      ],
      "execution_count": 0,
      "outputs": []
    },
    {
      "cell_type": "code",
      "metadata": {
        "id": "YeEJt_QC5PCS",
        "colab_type": "code",
        "outputId": "6148a4e1-a830-4060-9f2d-f4b88a9e2be3",
        "colab": {
          "base_uri": "https://localhost:8080/",
          "height": 36
        }
      },
      "source": [
        "print(obj3._value)"
      ],
      "execution_count": 0,
      "outputs": [
        {
          "output_type": "stream",
          "text": [
            "9\n"
          ],
          "name": "stdout"
        }
      ]
    },
    {
      "cell_type": "markdown",
      "metadata": {
        "id": "ASB-Mxcd5PCU",
        "colab_type": "text"
      },
      "source": [
        "Agora vamos tornar os nossos objetos um pouco mais inteligentes. Para tal, vamos adicionar um **método**, nome bonito para uma função, que altera o valor do atributo `_value`.\n",
        "\n",
        "Embora é possível acessar o estado do objeto diretamente em python (vide acima), é uma boa prática alterar o mesmo usando apenas métodos. Por isso coloco um `_` antes do atributo, para indicar que não é bom acessar o mesmo diretamente."
      ]
    },
    {
      "cell_type": "code",
      "metadata": {
        "id": "tH91OPIZ5PCW",
        "colab_type": "code",
        "colab": {}
      },
      "source": [
        "class Agregador(object):\n",
        "    \n",
        "    def __init__(self):\n",
        "        self._value = 0 \n",
        "    \n",
        "    def adiciona(self, value):\n",
        "        self._value += value\n",
        "        \n",
        "    def get_value(self):\n",
        "        return self._value"
      ],
      "execution_count": 0,
      "outputs": []
    },
    {
      "cell_type": "code",
      "metadata": {
        "id": "Mlb1NEW05PCa",
        "colab_type": "code",
        "colab": {}
      },
      "source": [
        "agg = Agregador()"
      ],
      "execution_count": 0,
      "outputs": []
    },
    {
      "cell_type": "markdown",
      "metadata": {
        "id": "8hz0y0A25PCd",
        "colab_type": "text"
      },
      "source": [
        "Observe como temos uma chamada `get_value()`. "
      ]
    },
    {
      "cell_type": "code",
      "metadata": {
        "id": "2QD-yL0Q5PCd",
        "colab_type": "code",
        "outputId": "a3b7e120-a006-47df-e31c-5df78bbdf0c7",
        "colab": {
          "base_uri": "https://localhost:8080/",
          "height": 36
        }
      },
      "source": [
        "print(agg.get_value())"
      ],
      "execution_count": 0,
      "outputs": [
        {
          "output_type": "stream",
          "text": [
            "0\n"
          ],
          "name": "stdout"
        }
      ]
    },
    {
      "cell_type": "markdown",
      "metadata": {
        "id": "cn6aJTsk5PCg",
        "colab_type": "text"
      },
      "source": [
        "Ao adicionar alguma coisa, temos um novo estado!"
      ]
    },
    {
      "cell_type": "code",
      "metadata": {
        "id": "5_s6_VQU5PCh",
        "colab_type": "code",
        "outputId": "3fc483e0-288a-4217-9ccf-30c6028d2879",
        "colab": {
          "base_uri": "https://localhost:8080/",
          "height": 36
        }
      },
      "source": [
        "agg.adiciona(7)\n",
        "print(agg.get_value())"
      ],
      "execution_count": 0,
      "outputs": [
        {
          "output_type": "stream",
          "text": [
            "7\n"
          ],
          "name": "stdout"
        }
      ]
    },
    {
      "cell_type": "markdown",
      "metadata": {
        "id": "bAyEUNWO5PCj",
        "colab_type": "text"
      },
      "source": [
        "Abaixo temos dois objetos diferentes com o mesmo estado. É isto!"
      ]
    },
    {
      "cell_type": "code",
      "metadata": {
        "id": "pUn5xVvw5PCj",
        "colab_type": "code",
        "outputId": "bb8a1c5b-665e-4366-eebe-9335df74014d",
        "colab": {
          "base_uri": "https://localhost:8080/",
          "height": 54
        }
      },
      "source": [
        "agg2 = Agregador()\n",
        "agg2.adiciona(agg.get_value())\n",
        "\n",
        "print(agg == agg2)\n",
        "print(agg.get_value() == agg2.get_value())"
      ],
      "execution_count": 0,
      "outputs": [
        {
          "output_type": "stream",
          "text": [
            "False\n",
            "True\n"
          ],
          "name": "stdout"
        }
      ]
    },
    {
      "cell_type": "markdown",
      "metadata": {
        "id": "6dvx6Bhb5PCm",
        "colab_type": "text"
      },
      "source": [
        "No fim toda classe vai ser da forma:\n",
        "\n",
        "```\n",
        "class MinhaClasse(object):\n",
        "    <código>\n",
        "```"
      ]
    },
    {
      "cell_type": "markdown",
      "metadata": {
        "id": "X_JRId_G5PCn",
        "colab_type": "text"
      },
      "source": [
        "## Forward e Backward"
      ]
    },
    {
      "cell_type": "code",
      "metadata": {
        "id": "8maeA5YDFlN0",
        "colab_type": "code",
        "colab": {}
      },
      "source": [
        "import torch\n",
        "from torch.autograd import Variable"
      ],
      "execution_count": 0,
      "outputs": []
    },
    {
      "cell_type": "markdown",
      "metadata": {
        "id": "84n53nim5PCo",
        "colab_type": "text"
      },
      "source": [
        "Imagine que você tem uma memória onde você guarda algumas funções para derivar. Vamos criar uma mini-biblioteca de derivadas agora. A mesma é composta de classes que representam produtos e exponenciais. \n",
        "\n",
        "Vamos começar definindo a `CamadaProduto`. Ela deve conter três métodos:\n",
        "- `__init__(self, valor)` inicializando o seu parâmetro interno. Sem retorno.\n",
        "- `forward(self, entrada)` retornando o produto da entrada com seu parâmetro interno.\n",
        "- `backward(self)` retornando a derivada da operação realizada pela camada\n",
        "  - $\\partial_x kx = k $"
      ]
    },
    {
      "cell_type": "code",
      "metadata": {
        "id": "exN82MpG5PCo",
        "colab_type": "code",
        "colab": {}
      },
      "source": [
        "class CamadaProduto(object):\n",
        "  def __init__(self, valor):\n",
        "    self._valor = valor\n",
        "\n",
        "  def forward(self, entrada):\n",
        "    return entrada * self._valor\n",
        "    \n",
        "  def backward(self):\n",
        "    return self._valor"
      ],
      "execution_count": 0,
      "outputs": []
    },
    {
      "cell_type": "markdown",
      "metadata": {
        "id": "tJO7av0WE9Rl",
        "colab_type": "text"
      },
      "source": [
        "Use a célula a seguir para testar a implementação da sua camada. A célula já implementa o forward de uma entrada na `CamadaProduto`, basta agora realizar as seguintes operações:\n",
        "- Calcular o gradiente automaticamente com as funções do torch. \n",
        "- Chamar a função `backward` da classe `CamadaProduto` que implementa manualmente a derivação."
      ]
    },
    {
      "cell_type": "code",
      "metadata": {
        "id": "wUeG4UowE8_B",
        "colab_type": "code",
        "outputId": "62752d0d-0a9a-4801-a998-8be0e2b9a0a3",
        "colab": {
          "base_uri": "https://localhost:8080/",
          "height": 92
        }
      },
      "source": [
        "camada = CamadaProduto(7.)\n",
        "\n",
        "entrada = torch.tensor([9.], requires_grad=True)\n",
        "saida   = camada.forward(entrada) \n",
        "print(\"Saída:\", saida, '\\n')\n",
        "\n",
        "# TODO: Autograd Torch\n",
        "saida.backward()\n",
        "print(\"Autograd Torch:\", entrada.grad)\n",
        "\n",
        "# Backward manualmente implementado\n",
        "print(\"Backward manual:\", camada.backward())"
      ],
      "execution_count": 0,
      "outputs": [
        {
          "output_type": "stream",
          "text": [
            "Saída: tensor([63.], grad_fn=<MulBackward0>) \n",
            "\n",
            "Autograd Torch: tensor([7.])\n",
            "Backward manual: 7.0\n"
          ],
          "name": "stdout"
        }
      ]
    },
    {
      "cell_type": "markdown",
      "metadata": {
        "id": "QsOOXqPp5PCs",
        "colab_type": "text"
      },
      "source": [
        "Note que temos um parâmetro no `__init__`. Tal método é uma chamada especial que inicializa o estado. Veja no passo a passo [deste link](http://pythontutor.com/visualize.html#code=class%20CamadaProduto%28object%29%3A%0A%20%20def%20__init__%28self,%20valor%29%3A%0A%20%20%20%20self._valor%20%3D%20valor%0A%0A%20%20def%20forward%28self,%20entrada%29%3A%0A%20%20%20%20self._entrada%20%3D%20entrada%0A%20%20%20%20return%20entrada%20*%20self._valor%0A%20%20%20%20%0A%20%20def%20backward%28self%29%3A%0A%20%20%20%20%20%20return%20self._entrada%0A%20%20%20%20%20%20%20%20%0Acamada%20%3D%20CamadaProduto%287%29%0A%0Aentrada%20%3D%209%0Aprint%28camada.forward%28entrada%29%29%0Aprint%28camada.backward%28%29%29&cumulative=false&curInstr=0&heapPrimitives=nevernest&mode=display&origin=opt-frontend.js&py=3&rawInputLstJSON=%5B%5D&textReferences=false) como ela é chamada ao criar o objeto.\n",
        "\n",
        "Note também como em algum momento temos dois objetos na memória com estados diferentes.\n",
        "\n",
        "**Brinque com o passo a passo do link acima antes de continuar!**\n",
        "\n",
        ".\n",
        ".\n",
        "."
      ]
    },
    {
      "cell_type": "markdown",
      "metadata": {
        "id": "d7ANIWEp5PCu",
        "colab_type": "text"
      },
      "source": [
        "Agora, vamos criar uma camada que cuida da forma: $f(x, n) = x^n$. Esta deve ser chamada `CamadaPolinomial` e conter os mesmos métodos da camada implementada previamente, eles são:\n",
        "- `__init__(self, valor)` inicializando o seu parâmetro interno. Sem retorno.\n",
        "- `forward(self, entrada)` retornando a potência da entrada elevada ao seu parâmetro interno.\n",
        "- `backward(self)` retornando a derivada da operação realizada pela camada\n",
        "  - $\\partial_x x^k = kx^{k-1} $"
      ]
    },
    {
      "cell_type": "code",
      "metadata": {
        "id": "sJV9CYfW5PCu",
        "colab_type": "code",
        "colab": {}
      },
      "source": [
        "class CamadaPolinomial(object):\n",
        "  \n",
        "  def __init__(self, valor):\n",
        "    self._valor = valor\n",
        "\n",
        "  def forward(self, entrada):\n",
        "    self._entrada = entrada\n",
        "    return torch.pow(entrada, self._valor)\n",
        "\n",
        "  def backward(self):\n",
        "    with torch.no_grad():\n",
        "      return self._valor * self._entrada ** (self._valor - 1)"
      ],
      "execution_count": 0,
      "outputs": []
    },
    {
      "cell_type": "markdown",
      "metadata": {
        "id": "ObK4KmIUKQ0F",
        "colab_type": "text"
      },
      "source": [
        "Assim como da última vez, teste abaixo a sua camada."
      ]
    },
    {
      "cell_type": "code",
      "metadata": {
        "id": "Tt0U-SHfJ1og",
        "colab_type": "code",
        "outputId": "10a31463-7602-4b39-ad0f-555fbd534acf",
        "colab": {
          "base_uri": "https://localhost:8080/",
          "height": 92
        }
      },
      "source": [
        "camada = CamadaPolinomial(7.)\n",
        "\n",
        "entrada = torch.tensor([9.], requires_grad=True)\n",
        "saida   = camada.forward(entrada) \n",
        "print(\"Saída:\", saida, '\\n')\n",
        "\n",
        "# Autograd Torch\n",
        "saida.backward()\n",
        "print(\"Autograd Torch:\", entrada.grad)\n",
        "\n",
        "# Backward manualmente implementado\n",
        "print(\"Backward manual:\", camada.backward())"
      ],
      "execution_count": 0,
      "outputs": [
        {
          "output_type": "stream",
          "text": [
            "Saída: tensor([4782969.], grad_fn=<PowBackward0>) \n",
            "\n",
            "Autograd Torch: tensor([3720087.])\n",
            "Backward manual: tensor([3720087.])\n"
          ],
          "name": "stdout"
        }
      ]
    },
    {
      "cell_type": "markdown",
      "metadata": {
        "id": "zZQyg8U25PC8",
        "colab_type": "text"
      },
      "source": [
        "A ideia da derivação automágica do pytorch é mais ou menos essa. Diferente da brincadeira acima, a biblioteca é capaz de derivar bem mais do que polinômios.\n",
        "\n",
        "Que tal ver agora como tudo se junta em uma rede neural?<br>\n",
        "Vamos criar uma classe `RedeNeural` implementando a seguinte arquitetura:\n",
        "1. CamadaProduto\n",
        "2. CamadaPolinomial\n",
        "3. CamadaProduto\n",
        "\n",
        "A classe vai implementar os mesmos métodos que implementamos para as camadas, porém com objetivos levemente diferentes. Eles são:\n",
        "- `__init__(self, valor1, valor2, valor3)` definindo as camadas que irão compor a rede. Os parâmetros de valor devem ser usados para inicializar as camadas.\n",
        "- `forward(self, entrada)` realizando o forward em todas as camadas da rede, na ordem correta e retornando a saída.\n",
        "- `backward(self)` retornando a derivada da operação realizada pela rede. Nesse caso precisamos aplicar a regra da cadeia, definida por:\n",
        "  - $\\partial_x f(g(p(x))) = f'(g(p(x))) \\times g'(p(x)) \\times p'(x) $ <br>\n",
        "\n",
        "> Note que estamos implementando o backward apenas para comparação com o autograd do pytorch. Quando implementarmos um problema real o backward manual não é necessário.\n"
      ]
    },
    {
      "cell_type": "code",
      "metadata": {
        "id": "9xelTFvpLwWH",
        "colab_type": "code",
        "colab": {}
      },
      "source": [
        "class RedeNeural(object):\n",
        "  \n",
        "  def __init__(self, l1, l2, l3):\n",
        "\n",
        "    self.layer1 = CamadaProduto(l1)\n",
        "    self.layer2 = CamadaPolinomial(l2)\n",
        "    self.layer3 = CamadaProduto(l3)\n",
        "\n",
        "  def forward(self, entrada):\n",
        "\n",
        "    x = self.layer1.forward(entrada)\n",
        "    x = self.layer2.forward(x) \n",
        "    x = self.layer3.forward(x) \n",
        "\n",
        "    return x\n",
        "\n",
        "  def backward(self):\n",
        "    diff = self.layer3.backward() * self.layer2.backward() * self.layer1.backward()\n",
        "    return diff"
      ],
      "execution_count": 0,
      "outputs": []
    },
    {
      "cell_type": "markdown",
      "metadata": {
        "id": "BXYy0A8CWuVg",
        "colab_type": "text"
      },
      "source": [
        "Vamos testar? :)"
      ]
    },
    {
      "cell_type": "code",
      "metadata": {
        "id": "IKCzxrIkVIVm",
        "colab_type": "code",
        "outputId": "c2084650-a225-4d69-aca1-82b56dbd5263",
        "colab": {
          "base_uri": "https://localhost:8080/",
          "height": 92
        }
      },
      "source": [
        "valores = [7, 2, 3]\n",
        "net = RedeNeural(valores[0], valores[1], valores[2])\n",
        "\n",
        "entrada = Variable(torch.tensor([7.]), requires_grad=True)\n",
        "out = net.forward(entrada)\n",
        "print(out, '\\n')\n",
        "\n",
        "out.backward()\n",
        "print(\"Autograd Torch:\", entrada.grad)\n",
        "\n",
        "# Backward manualmente implementado\n",
        "print(\"Backward manual:\", net.backward())"
      ],
      "execution_count": 0,
      "outputs": [
        {
          "output_type": "stream",
          "text": [
            "tensor([7203.], grad_fn=<MulBackward0>) \n",
            "\n",
            "Autograd Torch: tensor([2058.])\n",
            "Backward manual: tensor([2058.])\n"
          ],
          "name": "stdout"
        }
      ]
    },
    {
      "cell_type": "markdown",
      "metadata": {
        "id": "WvoiGL4VTxCl",
        "colab_type": "text"
      },
      "source": [
        "Note que o `grad_fn` da variável de saída apresenta apenas a última operação realizada pela rede, que representa a folha do grafo computacional. Para visualizar todo o grafo podemos usar a biblioteca **torchviz**. Sua implementação e documentação podem ser encontradas em: \n",
        "https://github.com/szagoruyko/pytorchviz\n",
        "\n",
        "Vamos começar instalando a biblioteca."
      ]
    },
    {
      "cell_type": "code",
      "metadata": {
        "id": "Z2fbn_XrTwYb",
        "colab_type": "code",
        "outputId": "fbf4b92f-481f-434f-f75a-de8f1002ee3d",
        "colab": {
          "base_uri": "https://localhost:8080/",
          "height": 92
        }
      },
      "source": [
        "!pip install torchviz\n",
        "import graphviz, torchviz"
      ],
      "execution_count": 0,
      "outputs": [
        {
          "output_type": "stream",
          "text": [
            "Requirement already satisfied: torchviz in /usr/local/lib/python3.6/dist-packages (0.0.1)\n",
            "Requirement already satisfied: torch in /usr/local/lib/python3.6/dist-packages (from torchviz) (1.3.1)\n",
            "Requirement already satisfied: graphviz in /usr/local/lib/python3.6/dist-packages (from torchviz) (0.10.1)\n",
            "Requirement already satisfied: numpy in /usr/local/lib/python3.6/dist-packages (from torch->torchviz) (1.17.5)\n"
          ],
          "name": "stdout"
        }
      ]
    },
    {
      "cell_type": "markdown",
      "metadata": {
        "id": "qtoF8q74Ufi_",
        "colab_type": "text"
      },
      "source": [
        "Agora basta rodar a função `make_dot` passando como parâmetro a variável de saída da rede."
      ]
    },
    {
      "cell_type": "code",
      "metadata": {
        "id": "AUJdJVsuUWkd",
        "colab_type": "code",
        "outputId": "9ed27fe8-1942-4e9c-e0f5-21ac73c4e6b5",
        "colab": {
          "base_uri": "https://localhost:8080/",
          "height": 306
        }
      },
      "source": [
        "out = net.forward(entrada)\n",
        "torchviz.make_dot(out)"
      ],
      "execution_count": 0,
      "outputs": [
        {
          "output_type": "execute_result",
          "data": {
            "text/plain": [
              "<graphviz.dot.Digraph at 0x7fdf41824828>"
            ],
            "image/svg+xml": "<?xml version=\"1.0\" encoding=\"UTF-8\" standalone=\"no\"?>\n<!DOCTYPE svg PUBLIC \"-//W3C//DTD SVG 1.1//EN\"\n \"http://www.w3.org/Graphics/SVG/1.1/DTD/svg11.dtd\">\n<!-- Generated by graphviz version 2.40.1 (20161225.0304)\n -->\n<!-- Title: %3 Pages: 1 -->\n<svg width=\"101pt\" height=\"214pt\"\n viewBox=\"0.00 0.00 101.00 214.00\" xmlns=\"http://www.w3.org/2000/svg\" xmlns:xlink=\"http://www.w3.org/1999/xlink\">\n<g id=\"graph0\" class=\"graph\" transform=\"scale(1 1) rotate(0) translate(4 210)\">\n<title>%3</title>\n<polygon fill=\"#ffffff\" stroke=\"transparent\" points=\"-4,4 -4,-210 97,-210 97,4 -4,4\"/>\n<!-- 140596836275816 -->\n<g id=\"node1\" class=\"node\">\n<title>140596836275816</title>\n<polygon fill=\"#caff70\" stroke=\"#000000\" points=\"92,-21 1,-21 1,0 92,0 92,-21\"/>\n<text text-anchor=\"middle\" x=\"46.5\" y=\"-7.4\" font-family=\"Times,serif\" font-size=\"12.00\" fill=\"#000000\">MulBackward0</text>\n</g>\n<!-- 140596836276096 -->\n<g id=\"node2\" class=\"node\">\n<title>140596836276096</title>\n<polygon fill=\"#d3d3d3\" stroke=\"#000000\" points=\"93,-78 0,-78 0,-57 93,-57 93,-78\"/>\n<text text-anchor=\"middle\" x=\"46.5\" y=\"-64.4\" font-family=\"Times,serif\" font-size=\"12.00\" fill=\"#000000\">PowBackward0</text>\n</g>\n<!-- 140596836276096&#45;&gt;140596836275816 -->\n<g id=\"edge1\" class=\"edge\">\n<title>140596836276096&#45;&gt;140596836275816</title>\n<path fill=\"none\" stroke=\"#000000\" d=\"M46.5,-56.7787C46.5,-49.6134 46.5,-39.9517 46.5,-31.3097\"/>\n<polygon fill=\"#000000\" stroke=\"#000000\" points=\"50.0001,-31.1732 46.5,-21.1732 43.0001,-31.1732 50.0001,-31.1732\"/>\n</g>\n<!-- 140596836276264 -->\n<g id=\"node3\" class=\"node\">\n<title>140596836276264</title>\n<polygon fill=\"#d3d3d3\" stroke=\"#000000\" points=\"92,-135 1,-135 1,-114 92,-114 92,-135\"/>\n<text text-anchor=\"middle\" x=\"46.5\" y=\"-121.4\" font-family=\"Times,serif\" font-size=\"12.00\" fill=\"#000000\">MulBackward0</text>\n</g>\n<!-- 140596836276264&#45;&gt;140596836276096 -->\n<g id=\"edge2\" class=\"edge\">\n<title>140596836276264&#45;&gt;140596836276096</title>\n<path fill=\"none\" stroke=\"#000000\" d=\"M46.5,-113.7787C46.5,-106.6134 46.5,-96.9517 46.5,-88.3097\"/>\n<polygon fill=\"#000000\" stroke=\"#000000\" points=\"50.0001,-88.1732 46.5,-78.1732 43.0001,-88.1732 50.0001,-88.1732\"/>\n</g>\n<!-- 140596836276376 -->\n<g id=\"node4\" class=\"node\">\n<title>140596836276376</title>\n<polygon fill=\"#add8e6\" stroke=\"#000000\" points=\"73.5,-206 19.5,-206 19.5,-171 73.5,-171 73.5,-206\"/>\n<text text-anchor=\"middle\" x=\"46.5\" y=\"-178.4\" font-family=\"Times,serif\" font-size=\"12.00\" fill=\"#000000\"> (1)</text>\n</g>\n<!-- 140596836276376&#45;&gt;140596836276264 -->\n<g id=\"edge3\" class=\"edge\">\n<title>140596836276376&#45;&gt;140596836276264</title>\n<path fill=\"none\" stroke=\"#000000\" d=\"M46.5,-170.6724C46.5,-162.8405 46.5,-153.5893 46.5,-145.4323\"/>\n<polygon fill=\"#000000\" stroke=\"#000000\" points=\"50.0001,-145.2234 46.5,-135.2234 43.0001,-145.2235 50.0001,-145.2234\"/>\n</g>\n</g>\n</svg>\n"
          },
          "metadata": {
            "tags": []
          },
          "execution_count": 25
        }
      ]
    }
  ]
}